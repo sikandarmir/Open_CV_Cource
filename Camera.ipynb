{
  "nbformat": 4,
  "nbformat_minor": 0,
  "metadata": {
    "colab": {
      "name": "Camera.ipynb",
      "provenance": [],
      "authorship_tag": "ABX9TyP1eJ12KKMdYqeILkvOBwNI",
      "include_colab_link": true
    },
    "kernelspec": {
      "name": "python3",
      "display_name": "Python 3"
    },
    "language_info": {
      "name": "python"
    }
  },
  "cells": [
    {
      "cell_type": "markdown",
      "metadata": {
        "id": "view-in-github",
        "colab_type": "text"
      },
      "source": [
        "<a href=\"https://colab.research.google.com/github/sikandarmir/Open_CV_Cource/blob/main/Camera.ipynb\" target=\"_parent\"><img src=\"https://colab.research.google.com/assets/colab-badge.svg\" alt=\"Open In Colab\"/></a>"
      ]
    },
    {
      "cell_type": "code",
      "metadata": {
        "id": "4IhD6fSO5sLw"
      },
      "source": [
        "import cv2\n",
        "import sys"
      ],
      "execution_count": 3,
      "outputs": []
    },
    {
      "cell_type": "code",
      "metadata": {
        "id": "9Tl2k2Jh50MY"
      },
      "source": [
        "s=0\n",
        "if len(sys.argv):\n",
        "  s=sys.argv[1]\n",
        "source=cv2.VideoCapture(s)\n",
        "win_name='Camera Preview'\n",
        "\n",
        "cv2.namedWindow(win_name,cv2.WINDOW_NORMAL)\n",
        "while cv2.waitkey(1)!=27:\n",
        "  has_frame,frame=source.read()\n",
        "  if not has_frame:\n",
        "    break\n",
        "  cv2.imshow(win_name,frame)\n",
        "  source.release()\n",
        "  cv2.destroyWindow(win_name)  \n",
        "\n",
        "  #Escape\n",
        "\n",
        "\n",
        "\n"
      ],
      "execution_count": null,
      "outputs": []
    },
    {
      "cell_type": "code",
      "metadata": {
        "id": "rm9qEm-5B-8s"
      },
      "source": [
        "# import the opencv library\n",
        "import cv2\n",
        "  \n",
        "  \n",
        "# define a video capture object\n",
        "vid = cv2.VideoCapture(0)\n",
        "  \n",
        "while(True):\n",
        "      \n",
        "    # Capture the video frame\n",
        "    # by frame\n",
        "    ret, frame = vid.read()\n",
        "  \n",
        "    # Display the resulting frame\n",
        "    cv2.imshow('frame', frame)\n",
        "      \n",
        "    # the 'q' button is set as the\n",
        "    # quitting button you may use any\n",
        "    # desired button of your choice\n",
        "    if cv2.waitKey(1) & 0xFF == ord('q'):\n",
        "        break\n",
        "  \n",
        "# After the loop release the cap object\n",
        "vid.release()\n",
        "# Destroy all the windows\n",
        "cv2.destroyAllWindows()"
      ],
      "execution_count": null,
      "outputs": []
    }
  ]
}